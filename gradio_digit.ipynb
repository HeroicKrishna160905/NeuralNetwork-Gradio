{
 "cells": [
  {
   "cell_type": "code",
   "execution_count": 1,
   "id": "324918ab-b5ac-4d56-bfac-64e68281e1ee",
   "metadata": {},
   "outputs": [],
   "source": [
    "import gradio as gr\n",
    "import tensorflow as tf"
   ]
  },
  {
   "cell_type": "code",
   "execution_count": 2,
   "id": "b19c8779-5e77-48ee-a167-e7ac3f32cfb4",
   "metadata": {},
   "outputs": [],
   "source": [
    "model= tf.keras.models.load_model('digit.keras')"
   ]
  },
  {
   "cell_type": "code",
   "execution_count": 3,
   "id": "eef28d60-47b5-40ea-ba43-1d3b3320e2e4",
   "metadata": {},
   "outputs": [],
   "source": [
    "import numpy as np\n",
    "from PIL import Image, ImageOps\n",
    "\n",
    "def recognize_digit(image):\n",
    "    # Handle Gradio Sketchpad dict format\n",
    "    if isinstance(image, dict):\n",
    "        image = image.get(\"composite\", None)\n",
    "        if image is None:\n",
    "            return {}\n",
    "\n",
    "    if image is None:\n",
    "        return {}\n",
    "\n",
    "    # Convert numpy array to PIL, always resize to 28x28\n",
    "    if isinstance(image, np.ndarray):\n",
    "        pil_img = Image.fromarray(image.astype(\"uint8\"), mode=\"L\").resize((28, 28))\n",
    "    elif isinstance(image, Image.Image):\n",
    "        pil_img = image.convert(\"L\").resize((28, 28))\n",
    "    else:\n",
    "        return {}\n",
    "\n",
    "    arr = np.array(pil_img)\n",
    "    if arr.mean() > 127:\n",
    "        pil_img = ImageOps.invert(pil_img)\n",
    "\n",
    "    img_array = np.array(pil_img).astype(np.float32) / 255.0\n",
    "    img_array = img_array.reshape(1, 28, 28, 1)  # <- This shape works for your model!\n",
    "\n",
    "    predictions = model.predict(img_array)\n",
    "    if predictions.shape[0] == 1:\n",
    "        predictions = predictions[0]\n",
    "    return {str(i): float(predictions[i]) for i in range(10)}"
   ]
  },
  {
   "cell_type": "code",
   "execution_count": 4,
   "id": "476a225f-59f2-48f6-a25c-6b9d4a4c3bc5",
   "metadata": {},
   "outputs": [
    {
     "name": "stdout",
     "output_type": "stream",
     "text": [
      "* Running on local URL:  http://127.0.0.1:7860\n",
      "* To create a public link, set `share=True` in `launch()`.\n"
     ]
    },
    {
     "data": {
      "text/html": [
       "<div><iframe src=\"http://127.0.0.1:7860/\" width=\"100%\" height=\"500\" allow=\"autoplay; camera; microphone; clipboard-read; clipboard-write;\" frameborder=\"0\" allowfullscreen></iframe></div>"
      ],
      "text/plain": [
       "<IPython.core.display.HTML object>"
      ]
     },
     "metadata": {},
     "output_type": "display_data"
    },
    {
     "data": {
      "text/plain": []
     },
     "execution_count": 4,
     "metadata": {},
     "output_type": "execute_result"
    },
    {
     "name": "stdout",
     "output_type": "stream",
     "text": [
      "\u001b[1m1/1\u001b[0m \u001b[32m━━━━━━━━━━━━━━━━━━━━\u001b[0m\u001b[37m\u001b[0m \u001b[1m0s\u001b[0m 377ms/step\n",
      "\u001b[1m1/1\u001b[0m \u001b[32m━━━━━━━━━━━━━━━━━━━━\u001b[0m\u001b[37m\u001b[0m \u001b[1m0s\u001b[0m 74ms/step\n",
      "\u001b[1m1/1\u001b[0m \u001b[32m━━━━━━━━━━━━━━━━━━━━\u001b[0m\u001b[37m\u001b[0m \u001b[1m0s\u001b[0m 65ms/step\n",
      "\u001b[1m1/1\u001b[0m \u001b[32m━━━━━━━━━━━━━━━━━━━━\u001b[0m\u001b[37m\u001b[0m \u001b[1m0s\u001b[0m 62ms/step\n"
     ]
    }
   ],
   "source": [
    "iface = gr.Interface(\n",
    "    fn=recognize_digit,\n",
    "    inputs=gr.Sketchpad(canvas_size=(280, 280), image_mode=\"L\"),\n",
    "    outputs=gr.Label(num_top_classes=3),\n",
    "    live=True\n",
    ")\n",
    "iface.launch()"
   ]
  },
  {
   "cell_type": "code",
   "execution_count": null,
   "id": "ab552010-50c0-4e71-bbd4-565b3fe65a2c",
   "metadata": {},
   "outputs": [],
   "source": []
  }
 ],
 "metadata": {
  "kernelspec": {
   "display_name": "Python (tf311)",
   "language": "python",
   "name": "tf311"
  },
  "language_info": {
   "codemirror_mode": {
    "name": "ipython",
    "version": 3
   },
   "file_extension": ".py",
   "mimetype": "text/x-python",
   "name": "python",
   "nbconvert_exporter": "python",
   "pygments_lexer": "ipython3",
   "version": "3.11.9"
  }
 },
 "nbformat": 4,
 "nbformat_minor": 5
}
